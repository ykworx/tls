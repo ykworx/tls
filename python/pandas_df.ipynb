{
  "nbformat": 4,
  "nbformat_minor": 0,
  "metadata": {
    "colab": {
      "name": "pandas_df.ipynb",
      "version": "0.3.2",
      "provenance": [],
      "include_colab_link": true
    },
    "kernelspec": {
      "display_name": "Python 3",
      "language": "python",
      "name": "python3"
    }
  },
  "cells": [
    {
      "cell_type": "markdown",
      "metadata": {
        "id": "view-in-github",
        "colab_type": "text"
      },
      "source": [
        "<a href=\"https://colab.research.google.com/github/ykworx/tls/blob/master/python/pandas_df.ipynb\" target=\"_parent\"><img src=\"https://colab.research.google.com/assets/colab-badge.svg\" alt=\"Open In Colab\"/></a>"
      ]
    },
    {
      "metadata": {
        "id": "NVZN7VKHifgD",
        "colab_type": "code",
        "colab": {}
      },
      "cell_type": "code",
      "source": [
        "import pandas as pd"
      ],
      "execution_count": 0,
      "outputs": []
    },
    {
      "metadata": {
        "id": "Pjbv3BgzifgG",
        "colab_type": "code",
        "colab": {},
        "outputId": "d1dc52a7-4499-47e4-9a12-e80b74373e2c"
      },
      "cell_type": "code",
      "source": [
        "df=pd.read_json(\"http://pythonhow.com/supermarkets.json\")\n",
        "df"
      ],
      "execution_count": 0,
      "outputs": [
        {
          "output_type": "execute_result",
          "data": {
            "text/html": [
              "<div>\n",
              "<style scoped>\n",
              "    .dataframe tbody tr th:only-of-type {\n",
              "        vertical-align: middle;\n",
              "    }\n",
              "\n",
              "    .dataframe tbody tr th {\n",
              "        vertical-align: top;\n",
              "    }\n",
              "\n",
              "    .dataframe thead th {\n",
              "        text-align: right;\n",
              "    }\n",
              "</style>\n",
              "<table border=\"1\" class=\"dataframe\">\n",
              "  <thead>\n",
              "    <tr style=\"text-align: right;\">\n",
              "      <th></th>\n",
              "      <th>Address</th>\n",
              "      <th>City</th>\n",
              "      <th>Country</th>\n",
              "      <th>Employees</th>\n",
              "      <th>ID</th>\n",
              "      <th>Name</th>\n",
              "      <th>State</th>\n",
              "    </tr>\n",
              "  </thead>\n",
              "  <tbody>\n",
              "    <tr>\n",
              "      <th>0</th>\n",
              "      <td>3666 21st St</td>\n",
              "      <td>San Francisco</td>\n",
              "      <td>USA</td>\n",
              "      <td>8</td>\n",
              "      <td>1</td>\n",
              "      <td>Madeira</td>\n",
              "      <td>CA 94114</td>\n",
              "    </tr>\n",
              "    <tr>\n",
              "      <th>1</th>\n",
              "      <td>735 Dolores St</td>\n",
              "      <td>San Francisco</td>\n",
              "      <td>USA</td>\n",
              "      <td>15</td>\n",
              "      <td>2</td>\n",
              "      <td>Bready Shop</td>\n",
              "      <td>CA 94119</td>\n",
              "    </tr>\n",
              "    <tr>\n",
              "      <th>2</th>\n",
              "      <td>332 Hill St</td>\n",
              "      <td>San Francisco</td>\n",
              "      <td>USA</td>\n",
              "      <td>25</td>\n",
              "      <td>3</td>\n",
              "      <td>Super River</td>\n",
              "      <td>California 94114</td>\n",
              "    </tr>\n",
              "    <tr>\n",
              "      <th>3</th>\n",
              "      <td>3995 23rd St</td>\n",
              "      <td>San Francisco</td>\n",
              "      <td>USA</td>\n",
              "      <td>10</td>\n",
              "      <td>4</td>\n",
              "      <td>Ben's Shop</td>\n",
              "      <td>CA 94114</td>\n",
              "    </tr>\n",
              "    <tr>\n",
              "      <th>4</th>\n",
              "      <td>1056 Sanchez St</td>\n",
              "      <td>San Francisco</td>\n",
              "      <td>USA</td>\n",
              "      <td>12</td>\n",
              "      <td>5</td>\n",
              "      <td>Sanchez</td>\n",
              "      <td>California</td>\n",
              "    </tr>\n",
              "    <tr>\n",
              "      <th>5</th>\n",
              "      <td>551 Alvarado St</td>\n",
              "      <td>San Francisco</td>\n",
              "      <td>USA</td>\n",
              "      <td>20</td>\n",
              "      <td>6</td>\n",
              "      <td>Richvalley</td>\n",
              "      <td>CA 94114</td>\n",
              "    </tr>\n",
              "  </tbody>\n",
              "</table>\n",
              "</div>"
            ],
            "text/plain": [
              "           Address           City Country  Employees  ID         Name  \\\n",
              "0     3666 21st St  San Francisco     USA          8   1      Madeira   \n",
              "1   735 Dolores St  San Francisco     USA         15   2  Bready Shop   \n",
              "2      332 Hill St  San Francisco     USA         25   3  Super River   \n",
              "3     3995 23rd St  San Francisco     USA         10   4   Ben's Shop   \n",
              "4  1056 Sanchez St  San Francisco     USA         12   5      Sanchez   \n",
              "5  551 Alvarado St  San Francisco     USA         20   6   Richvalley   \n",
              "\n",
              "              State  \n",
              "0          CA 94114  \n",
              "1          CA 94119  \n",
              "2  California 94114  \n",
              "3          CA 94114  \n",
              "4        California  \n",
              "5          CA 94114  "
            ]
          },
          "metadata": {
            "tags": []
          },
          "execution_count": 36
        }
      ]
    },
    {
      "metadata": {
        "id": "3wh2HJbVifgK",
        "colab_type": "code",
        "colab": {},
        "outputId": "10b52a3d-b541-4cce-c919-a86fd798da67"
      },
      "cell_type": "code",
      "source": [
        "df=df.set_index(\"Address\")\n",
        "df"
      ],
      "execution_count": 0,
      "outputs": [
        {
          "output_type": "execute_result",
          "data": {
            "text/html": [
              "<div>\n",
              "<style scoped>\n",
              "    .dataframe tbody tr th:only-of-type {\n",
              "        vertical-align: middle;\n",
              "    }\n",
              "\n",
              "    .dataframe tbody tr th {\n",
              "        vertical-align: top;\n",
              "    }\n",
              "\n",
              "    .dataframe thead th {\n",
              "        text-align: right;\n",
              "    }\n",
              "</style>\n",
              "<table border=\"1\" class=\"dataframe\">\n",
              "  <thead>\n",
              "    <tr style=\"text-align: right;\">\n",
              "      <th></th>\n",
              "      <th>City</th>\n",
              "      <th>Country</th>\n",
              "      <th>Employees</th>\n",
              "      <th>ID</th>\n",
              "      <th>Name</th>\n",
              "      <th>State</th>\n",
              "    </tr>\n",
              "    <tr>\n",
              "      <th>Address</th>\n",
              "      <th></th>\n",
              "      <th></th>\n",
              "      <th></th>\n",
              "      <th></th>\n",
              "      <th></th>\n",
              "      <th></th>\n",
              "    </tr>\n",
              "  </thead>\n",
              "  <tbody>\n",
              "    <tr>\n",
              "      <th>3666 21st St</th>\n",
              "      <td>San Francisco</td>\n",
              "      <td>USA</td>\n",
              "      <td>8</td>\n",
              "      <td>1</td>\n",
              "      <td>Madeira</td>\n",
              "      <td>CA 94114</td>\n",
              "    </tr>\n",
              "    <tr>\n",
              "      <th>735 Dolores St</th>\n",
              "      <td>San Francisco</td>\n",
              "      <td>USA</td>\n",
              "      <td>15</td>\n",
              "      <td>2</td>\n",
              "      <td>Bready Shop</td>\n",
              "      <td>CA 94119</td>\n",
              "    </tr>\n",
              "    <tr>\n",
              "      <th>332 Hill St</th>\n",
              "      <td>San Francisco</td>\n",
              "      <td>USA</td>\n",
              "      <td>25</td>\n",
              "      <td>3</td>\n",
              "      <td>Super River</td>\n",
              "      <td>California 94114</td>\n",
              "    </tr>\n",
              "    <tr>\n",
              "      <th>3995 23rd St</th>\n",
              "      <td>San Francisco</td>\n",
              "      <td>USA</td>\n",
              "      <td>10</td>\n",
              "      <td>4</td>\n",
              "      <td>Ben's Shop</td>\n",
              "      <td>CA 94114</td>\n",
              "    </tr>\n",
              "    <tr>\n",
              "      <th>1056 Sanchez St</th>\n",
              "      <td>San Francisco</td>\n",
              "      <td>USA</td>\n",
              "      <td>12</td>\n",
              "      <td>5</td>\n",
              "      <td>Sanchez</td>\n",
              "      <td>California</td>\n",
              "    </tr>\n",
              "    <tr>\n",
              "      <th>551 Alvarado St</th>\n",
              "      <td>San Francisco</td>\n",
              "      <td>USA</td>\n",
              "      <td>20</td>\n",
              "      <td>6</td>\n",
              "      <td>Richvalley</td>\n",
              "      <td>CA 94114</td>\n",
              "    </tr>\n",
              "  </tbody>\n",
              "</table>\n",
              "</div>"
            ],
            "text/plain": [
              "                          City Country  Employees  ID         Name  \\\n",
              "Address                                                              \n",
              "3666 21st St     San Francisco     USA          8   1      Madeira   \n",
              "735 Dolores St   San Francisco     USA         15   2  Bready Shop   \n",
              "332 Hill St      San Francisco     USA         25   3  Super River   \n",
              "3995 23rd St     San Francisco     USA         10   4   Ben's Shop   \n",
              "1056 Sanchez St  San Francisco     USA         12   5      Sanchez   \n",
              "551 Alvarado St  San Francisco     USA         20   6   Richvalley   \n",
              "\n",
              "                            State  \n",
              "Address                            \n",
              "3666 21st St             CA 94114  \n",
              "735 Dolores St           CA 94119  \n",
              "332 Hill St      California 94114  \n",
              "3995 23rd St             CA 94114  \n",
              "1056 Sanchez St        California  \n",
              "551 Alvarado St          CA 94114  "
            ]
          },
          "metadata": {
            "tags": []
          },
          "execution_count": 37
        }
      ]
    },
    {
      "metadata": {
        "id": "_n2I7QOqifgO",
        "colab_type": "code",
        "colab": {},
        "outputId": "afb0213d-66e1-463e-d54c-923896e606dd"
      },
      "cell_type": "code",
      "source": [
        "df.loc[\"735 Dolores St\":\"332 Hill St\", \"Country\":\"ID\"]"
      ],
      "execution_count": 0,
      "outputs": [
        {
          "output_type": "execute_result",
          "data": {
            "text/html": [
              "<div>\n",
              "<style scoped>\n",
              "    .dataframe tbody tr th:only-of-type {\n",
              "        vertical-align: middle;\n",
              "    }\n",
              "\n",
              "    .dataframe tbody tr th {\n",
              "        vertical-align: top;\n",
              "    }\n",
              "\n",
              "    .dataframe thead th {\n",
              "        text-align: right;\n",
              "    }\n",
              "</style>\n",
              "<table border=\"1\" class=\"dataframe\">\n",
              "  <thead>\n",
              "    <tr style=\"text-align: right;\">\n",
              "      <th></th>\n",
              "      <th>Country</th>\n",
              "      <th>Employees</th>\n",
              "      <th>ID</th>\n",
              "    </tr>\n",
              "    <tr>\n",
              "      <th>Address</th>\n",
              "      <th></th>\n",
              "      <th></th>\n",
              "      <th></th>\n",
              "    </tr>\n",
              "  </thead>\n",
              "  <tbody>\n",
              "    <tr>\n",
              "      <th>735 Dolores St</th>\n",
              "      <td>USA</td>\n",
              "      <td>15</td>\n",
              "      <td>2</td>\n",
              "    </tr>\n",
              "    <tr>\n",
              "      <th>332 Hill St</th>\n",
              "      <td>USA</td>\n",
              "      <td>25</td>\n",
              "      <td>3</td>\n",
              "    </tr>\n",
              "  </tbody>\n",
              "</table>\n",
              "</div>"
            ],
            "text/plain": [
              "               Country  Employees  ID\n",
              "Address                              \n",
              "735 Dolores St     USA         15   2\n",
              "332 Hill St        USA         25   3"
            ]
          },
          "metadata": {
            "tags": []
          },
          "execution_count": 38
        }
      ]
    },
    {
      "metadata": {
        "id": "t6HPxRs0ifgR",
        "colab_type": "code",
        "colab": {},
        "outputId": "f6d12d1c-8c96-4312-9179-12ad8a492811"
      },
      "cell_type": "code",
      "source": [
        "df.loc[\"735 Dolores St\", \"Country\"]"
      ],
      "execution_count": 0,
      "outputs": [
        {
          "output_type": "execute_result",
          "data": {
            "text/plain": [
              "'USA'"
            ]
          },
          "metadata": {
            "tags": []
          },
          "execution_count": 39
        }
      ]
    },
    {
      "metadata": {
        "id": "kkiaXUTeifgT",
        "colab_type": "code",
        "colab": {},
        "outputId": "7e2988d3-de4c-4f8f-fd46-3a8e1e5eba85"
      },
      "cell_type": "code",
      "source": [
        "list(df.loc[:,\"Country\"])"
      ],
      "execution_count": 0,
      "outputs": [
        {
          "output_type": "execute_result",
          "data": {
            "text/plain": [
              "['USA', 'USA', 'USA', 'USA', 'USA', 'USA']"
            ]
          },
          "metadata": {
            "tags": []
          },
          "execution_count": 40
        }
      ]
    },
    {
      "metadata": {
        "id": "VgMN4Q1VifgW",
        "colab_type": "code",
        "colab": {},
        "outputId": "4c905c59-f73b-4309-c895-615af52d11d7"
      },
      "cell_type": "code",
      "source": [
        "df.iloc[3,1:4]"
      ],
      "execution_count": 0,
      "outputs": [
        {
          "output_type": "execute_result",
          "data": {
            "text/plain": [
              "Country      USA\n",
              "Employees     10\n",
              "ID             4\n",
              "Name: 3995 23rd St, dtype: object"
            ]
          },
          "metadata": {
            "tags": []
          },
          "execution_count": 41
        }
      ]
    },
    {
      "metadata": {
        "id": "9efO2NRtifgZ",
        "colab_type": "code",
        "colab": {},
        "outputId": "b9f63e49-6d51-40c0-cbec-b2d187970e67"
      },
      "cell_type": "code",
      "source": [
        "# Drop\n",
        "df.ix[3,4] # ix is deprecated"
      ],
      "execution_count": 0,
      "outputs": [
        {
          "output_type": "stream",
          "text": [
            "/home/woody/.pyenv/versions/3.6.7/envs/woody/lib/python3.6/site-packages/ipykernel_launcher.py:2: DeprecationWarning: \n",
            ".ix is deprecated. Please use\n",
            ".loc for label based indexing or\n",
            ".iloc for positional indexing\n",
            "\n",
            "See the documentation here:\n",
            "http://pandas.pydata.org/pandas-docs/stable/indexing.html#ix-indexer-is-deprecated\n",
            "  \n"
          ],
          "name": "stderr"
        },
        {
          "output_type": "execute_result",
          "data": {
            "text/plain": [
              "\"Ben's Shop\""
            ]
          },
          "metadata": {
            "tags": []
          },
          "execution_count": 42
        }
      ]
    },
    {
      "metadata": {
        "id": "9PuCn6jyifgf",
        "colab_type": "code",
        "colab": {},
        "outputId": "04efdeca-96c5-4400-c630-34dffcf3d415"
      },
      "cell_type": "code",
      "source": [
        "df.drop(\"332 Hill St\")"
      ],
      "execution_count": 0,
      "outputs": [
        {
          "output_type": "execute_result",
          "data": {
            "text/html": [
              "<div>\n",
              "<style scoped>\n",
              "    .dataframe tbody tr th:only-of-type {\n",
              "        vertical-align: middle;\n",
              "    }\n",
              "\n",
              "    .dataframe tbody tr th {\n",
              "        vertical-align: top;\n",
              "    }\n",
              "\n",
              "    .dataframe thead th {\n",
              "        text-align: right;\n",
              "    }\n",
              "</style>\n",
              "<table border=\"1\" class=\"dataframe\">\n",
              "  <thead>\n",
              "    <tr style=\"text-align: right;\">\n",
              "      <th></th>\n",
              "      <th>City</th>\n",
              "      <th>Country</th>\n",
              "      <th>Employees</th>\n",
              "      <th>ID</th>\n",
              "      <th>Name</th>\n",
              "      <th>State</th>\n",
              "    </tr>\n",
              "    <tr>\n",
              "      <th>Address</th>\n",
              "      <th></th>\n",
              "      <th></th>\n",
              "      <th></th>\n",
              "      <th></th>\n",
              "      <th></th>\n",
              "      <th></th>\n",
              "    </tr>\n",
              "  </thead>\n",
              "  <tbody>\n",
              "    <tr>\n",
              "      <th>3666 21st St</th>\n",
              "      <td>San Francisco</td>\n",
              "      <td>USA</td>\n",
              "      <td>8</td>\n",
              "      <td>1</td>\n",
              "      <td>Madeira</td>\n",
              "      <td>CA 94114</td>\n",
              "    </tr>\n",
              "    <tr>\n",
              "      <th>735 Dolores St</th>\n",
              "      <td>San Francisco</td>\n",
              "      <td>USA</td>\n",
              "      <td>15</td>\n",
              "      <td>2</td>\n",
              "      <td>Bready Shop</td>\n",
              "      <td>CA 94119</td>\n",
              "    </tr>\n",
              "    <tr>\n",
              "      <th>3995 23rd St</th>\n",
              "      <td>San Francisco</td>\n",
              "      <td>USA</td>\n",
              "      <td>10</td>\n",
              "      <td>4</td>\n",
              "      <td>Ben's Shop</td>\n",
              "      <td>CA 94114</td>\n",
              "    </tr>\n",
              "    <tr>\n",
              "      <th>1056 Sanchez St</th>\n",
              "      <td>San Francisco</td>\n",
              "      <td>USA</td>\n",
              "      <td>12</td>\n",
              "      <td>5</td>\n",
              "      <td>Sanchez</td>\n",
              "      <td>California</td>\n",
              "    </tr>\n",
              "    <tr>\n",
              "      <th>551 Alvarado St</th>\n",
              "      <td>San Francisco</td>\n",
              "      <td>USA</td>\n",
              "      <td>20</td>\n",
              "      <td>6</td>\n",
              "      <td>Richvalley</td>\n",
              "      <td>CA 94114</td>\n",
              "    </tr>\n",
              "  </tbody>\n",
              "</table>\n",
              "</div>"
            ],
            "text/plain": [
              "                          City Country  Employees  ID         Name       State\n",
              "Address                                                                       \n",
              "3666 21st St     San Francisco     USA          8   1      Madeira    CA 94114\n",
              "735 Dolores St   San Francisco     USA         15   2  Bready Shop    CA 94119\n",
              "3995 23rd St     San Francisco     USA         10   4   Ben's Shop    CA 94114\n",
              "1056 Sanchez St  San Francisco     USA         12   5      Sanchez  California\n",
              "551 Alvarado St  San Francisco     USA         20   6   Richvalley    CA 94114"
            ]
          },
          "metadata": {
            "tags": []
          },
          "execution_count": 43
        }
      ]
    },
    {
      "metadata": {
        "id": "5zIebF58ifgo",
        "colab_type": "code",
        "colab": {}
      },
      "cell_type": "code",
      "source": [
        "df=df.drop(\"332 Hill St\",0)"
      ],
      "execution_count": 0,
      "outputs": []
    },
    {
      "metadata": {
        "id": "RJ5z6RRhifgq",
        "colab_type": "code",
        "colab": {},
        "outputId": "3c751af3-8520-44f1-c4d3-9b72bf1155b2"
      },
      "cell_type": "code",
      "source": [
        "df"
      ],
      "execution_count": 0,
      "outputs": [
        {
          "output_type": "execute_result",
          "data": {
            "text/html": [
              "<div>\n",
              "<style scoped>\n",
              "    .dataframe tbody tr th:only-of-type {\n",
              "        vertical-align: middle;\n",
              "    }\n",
              "\n",
              "    .dataframe tbody tr th {\n",
              "        vertical-align: top;\n",
              "    }\n",
              "\n",
              "    .dataframe thead th {\n",
              "        text-align: right;\n",
              "    }\n",
              "</style>\n",
              "<table border=\"1\" class=\"dataframe\">\n",
              "  <thead>\n",
              "    <tr style=\"text-align: right;\">\n",
              "      <th></th>\n",
              "      <th>City</th>\n",
              "      <th>Country</th>\n",
              "      <th>Employees</th>\n",
              "      <th>ID</th>\n",
              "      <th>Name</th>\n",
              "      <th>State</th>\n",
              "    </tr>\n",
              "    <tr>\n",
              "      <th>Address</th>\n",
              "      <th></th>\n",
              "      <th></th>\n",
              "      <th></th>\n",
              "      <th></th>\n",
              "      <th></th>\n",
              "      <th></th>\n",
              "    </tr>\n",
              "  </thead>\n",
              "  <tbody>\n",
              "    <tr>\n",
              "      <th>3666 21st St</th>\n",
              "      <td>San Francisco</td>\n",
              "      <td>USA</td>\n",
              "      <td>8</td>\n",
              "      <td>1</td>\n",
              "      <td>Madeira</td>\n",
              "      <td>CA 94114</td>\n",
              "    </tr>\n",
              "    <tr>\n",
              "      <th>735 Dolores St</th>\n",
              "      <td>San Francisco</td>\n",
              "      <td>USA</td>\n",
              "      <td>15</td>\n",
              "      <td>2</td>\n",
              "      <td>Bready Shop</td>\n",
              "      <td>CA 94119</td>\n",
              "    </tr>\n",
              "    <tr>\n",
              "      <th>3995 23rd St</th>\n",
              "      <td>San Francisco</td>\n",
              "      <td>USA</td>\n",
              "      <td>10</td>\n",
              "      <td>4</td>\n",
              "      <td>Ben's Shop</td>\n",
              "      <td>CA 94114</td>\n",
              "    </tr>\n",
              "    <tr>\n",
              "      <th>1056 Sanchez St</th>\n",
              "      <td>San Francisco</td>\n",
              "      <td>USA</td>\n",
              "      <td>12</td>\n",
              "      <td>5</td>\n",
              "      <td>Sanchez</td>\n",
              "      <td>California</td>\n",
              "    </tr>\n",
              "    <tr>\n",
              "      <th>551 Alvarado St</th>\n",
              "      <td>San Francisco</td>\n",
              "      <td>USA</td>\n",
              "      <td>20</td>\n",
              "      <td>6</td>\n",
              "      <td>Richvalley</td>\n",
              "      <td>CA 94114</td>\n",
              "    </tr>\n",
              "  </tbody>\n",
              "</table>\n",
              "</div>"
            ],
            "text/plain": [
              "                          City Country  Employees  ID         Name       State\n",
              "Address                                                                       \n",
              "3666 21st St     San Francisco     USA          8   1      Madeira    CA 94114\n",
              "735 Dolores St   San Francisco     USA         15   2  Bready Shop    CA 94119\n",
              "3995 23rd St     San Francisco     USA         10   4   Ben's Shop    CA 94114\n",
              "1056 Sanchez St  San Francisco     USA         12   5      Sanchez  California\n",
              "551 Alvarado St  San Francisco     USA         20   6   Richvalley    CA 94114"
            ]
          },
          "metadata": {
            "tags": []
          },
          "execution_count": 46
        }
      ]
    },
    {
      "metadata": {
        "id": "Pa1ot1LEifgt",
        "colab_type": "code",
        "colab": {},
        "outputId": "fbc1eca5-f038-4a95-eaaf-dfe4a11aad03"
      },
      "cell_type": "code",
      "source": [
        "# Drop Row\n",
        "df.drop(df.index[0:3],0)"
      ],
      "execution_count": 0,
      "outputs": [
        {
          "output_type": "execute_result",
          "data": {
            "text/html": [
              "<div>\n",
              "<style scoped>\n",
              "    .dataframe tbody tr th:only-of-type {\n",
              "        vertical-align: middle;\n",
              "    }\n",
              "\n",
              "    .dataframe tbody tr th {\n",
              "        vertical-align: top;\n",
              "    }\n",
              "\n",
              "    .dataframe thead th {\n",
              "        text-align: right;\n",
              "    }\n",
              "</style>\n",
              "<table border=\"1\" class=\"dataframe\">\n",
              "  <thead>\n",
              "    <tr style=\"text-align: right;\">\n",
              "      <th></th>\n",
              "      <th>City</th>\n",
              "      <th>Country</th>\n",
              "      <th>Employees</th>\n",
              "      <th>ID</th>\n",
              "      <th>Name</th>\n",
              "      <th>State</th>\n",
              "    </tr>\n",
              "    <tr>\n",
              "      <th>Address</th>\n",
              "      <th></th>\n",
              "      <th></th>\n",
              "      <th></th>\n",
              "      <th></th>\n",
              "      <th></th>\n",
              "      <th></th>\n",
              "    </tr>\n",
              "  </thead>\n",
              "  <tbody>\n",
              "    <tr>\n",
              "      <th>1056 Sanchez St</th>\n",
              "      <td>San Francisco</td>\n",
              "      <td>USA</td>\n",
              "      <td>12</td>\n",
              "      <td>5</td>\n",
              "      <td>Sanchez</td>\n",
              "      <td>California</td>\n",
              "    </tr>\n",
              "    <tr>\n",
              "      <th>551 Alvarado St</th>\n",
              "      <td>San Francisco</td>\n",
              "      <td>USA</td>\n",
              "      <td>20</td>\n",
              "      <td>6</td>\n",
              "      <td>Richvalley</td>\n",
              "      <td>CA 94114</td>\n",
              "    </tr>\n",
              "  </tbody>\n",
              "</table>\n",
              "</div>"
            ],
            "text/plain": [
              "                          City Country  Employees  ID        Name       State\n",
              "Address                                                                      \n",
              "1056 Sanchez St  San Francisco     USA         12   5     Sanchez  California\n",
              "551 Alvarado St  San Francisco     USA         20   6  Richvalley    CA 94114"
            ]
          },
          "metadata": {
            "tags": []
          },
          "execution_count": 51
        }
      ]
    },
    {
      "metadata": {
        "id": "gW3bxS0Qifgv",
        "colab_type": "code",
        "colab": {},
        "outputId": "23a71f8c-1ac0-4e54-d662-04e6502c5067"
      },
      "cell_type": "code",
      "source": [
        "# Drop Column\n",
        "df.drop(df.columns[0:3],1) # param 2: {0:index, 1:columns}\n",
        "help(df.drop)"
      ],
      "execution_count": 0,
      "outputs": [
        {
          "output_type": "stream",
          "text": [
            "Help on method drop in module pandas.core.frame:\n",
            "\n",
            "drop(labels=None, axis=0, index=None, columns=None, level=None, inplace=False, errors='raise') method of pandas.core.frame.DataFrame instance\n",
            "    Drop specified labels from rows or columns.\n",
            "    \n",
            "    Remove rows or columns by specifying label names and corresponding\n",
            "    axis, or by specifying directly index or column names. When using a\n",
            "    multi-index, labels on different levels can be removed by specifying\n",
            "    the level.\n",
            "    \n",
            "    Parameters\n",
            "    ----------\n",
            "    labels : single label or list-like\n",
            "        Index or column labels to drop.\n",
            "    axis : {0 or 'index', 1 or 'columns'}, default 0\n",
            "        Whether to drop labels from the index (0 or 'index') or\n",
            "        columns (1 or 'columns').\n",
            "    index, columns : single label or list-like\n",
            "        Alternative to specifying axis (``labels, axis=1``\n",
            "        is equivalent to ``columns=labels``).\n",
            "    \n",
            "        .. versionadded:: 0.21.0\n",
            "    level : int or level name, optional\n",
            "        For MultiIndex, level from which the labels will be removed.\n",
            "    inplace : bool, default False\n",
            "        If True, do operation inplace and return None.\n",
            "    errors : {'ignore', 'raise'}, default 'raise'\n",
            "        If 'ignore', suppress error and only existing labels are\n",
            "        dropped.\n",
            "    \n",
            "    Returns\n",
            "    -------\n",
            "    dropped : pandas.DataFrame\n",
            "    \n",
            "    Raises\n",
            "    ------\n",
            "    KeyError\n",
            "        If none of the labels are found in the selected axis\n",
            "    \n",
            "    See Also\n",
            "    --------\n",
            "    DataFrame.loc : Label-location based indexer for selection by label.\n",
            "    DataFrame.dropna : Return DataFrame with labels on given axis omitted\n",
            "        where (all or any) data are missing.\n",
            "    DataFrame.drop_duplicates : Return DataFrame with duplicate rows\n",
            "        removed, optionally only considering certain columns.\n",
            "    Series.drop : Return Series with specified index labels removed.\n",
            "    \n",
            "    Examples\n",
            "    --------\n",
            "    >>> df = pd.DataFrame(np.arange(12).reshape(3,4),\n",
            "    ...                   columns=['A', 'B', 'C', 'D'])\n",
            "    >>> df\n",
            "       A  B   C   D\n",
            "    0  0  1   2   3\n",
            "    1  4  5   6   7\n",
            "    2  8  9  10  11\n",
            "    \n",
            "    Drop columns\n",
            "    \n",
            "    >>> df.drop(['B', 'C'], axis=1)\n",
            "       A   D\n",
            "    0  0   3\n",
            "    1  4   7\n",
            "    2  8  11\n",
            "    \n",
            "    >>> df.drop(columns=['B', 'C'])\n",
            "       A   D\n",
            "    0  0   3\n",
            "    1  4   7\n",
            "    2  8  11\n",
            "    \n",
            "    Drop a row by index\n",
            "    \n",
            "    >>> df.drop([0, 1])\n",
            "       A  B   C   D\n",
            "    2  8  9  10  11\n",
            "    \n",
            "    Drop columns and/or rows of MultiIndex DataFrame\n",
            "    \n",
            "    >>> midx = pd.MultiIndex(levels=[['lama', 'cow', 'falcon'],\n",
            "    ...                              ['speed', 'weight', 'length']],\n",
            "    ...                      codes=[[0, 0, 0, 1, 1, 1, 2, 2, 2],\n",
            "    ...                             [0, 1, 2, 0, 1, 2, 0, 1, 2]])\n",
            "    >>> df = pd.DataFrame(index=midx, columns=['big', 'small'],\n",
            "    ...                   data=[[45, 30], [200, 100], [1.5, 1], [30, 20],\n",
            "    ...                         [250, 150], [1.5, 0.8], [320, 250],\n",
            "    ...                         [1, 0.8], [0.3,0.2]])\n",
            "    >>> df\n",
            "                    big     small\n",
            "    lama    speed   45.0    30.0\n",
            "            weight  200.0   100.0\n",
            "            length  1.5     1.0\n",
            "    cow     speed   30.0    20.0\n",
            "            weight  250.0   150.0\n",
            "            length  1.5     0.8\n",
            "    falcon  speed   320.0   250.0\n",
            "            weight  1.0     0.8\n",
            "            length  0.3     0.2\n",
            "    \n",
            "    >>> df.drop(index='cow', columns='small')\n",
            "                    big\n",
            "    lama    speed   45.0\n",
            "            weight  200.0\n",
            "            length  1.5\n",
            "    falcon  speed   320.0\n",
            "            weight  1.0\n",
            "            length  0.3\n",
            "    \n",
            "    >>> df.drop(index='length', level=1)\n",
            "                    big     small\n",
            "    lama    speed   45.0    30.0\n",
            "            weight  200.0   100.0\n",
            "    cow     speed   30.0    20.0\n",
            "            weight  250.0   150.0\n",
            "    falcon  speed   320.0   250.0\n",
            "            weight  1.0     0.8\n",
            "\n"
          ],
          "name": "stdout"
        }
      ]
    },
    {
      "metadata": {
        "id": "1wmfglT5ifgy",
        "colab_type": "code",
        "colab": {},
        "outputId": "b8aa9483-7dfa-4dcd-dafb-7c97b697ff8b"
      },
      "cell_type": "code",
      "source": [
        "df.columns"
      ],
      "execution_count": 0,
      "outputs": [
        {
          "output_type": "execute_result",
          "data": {
            "text/plain": [
              "Index(['City', 'Country', 'Employees', 'ID', 'Name', 'State'], dtype='object')"
            ]
          },
          "metadata": {
            "tags": []
          },
          "execution_count": 62
        }
      ]
    }
  ]
}