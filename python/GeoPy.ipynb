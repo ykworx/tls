{
  "nbformat": 4,
  "nbformat_minor": 0,
  "metadata": {
    "colab": {
      "name": "GeoPy.ipynb",
      "version": "0.3.2",
      "provenance": [],
      "include_colab_link": true
    },
    "kernelspec": {
      "name": "python3",
      "display_name": "Python 3"
    }
  },
  "cells": [
    {
      "cell_type": "markdown",
      "metadata": {
        "id": "view-in-github",
        "colab_type": "text"
      },
      "source": [
        "<a href=\"https://colab.research.google.com/github/ykworx/tls/blob/master/python/GeoPy.ipynb\" target=\"_parent\"><img src=\"https://colab.research.google.com/assets/colab-badge.svg\" alt=\"Open In Colab\"/></a>"
      ]
    },
    {
      "metadata": {
        "id": "aGAVamevx9fv",
        "colab_type": "code",
        "colab": {}
      },
      "cell_type": "code",
      "source": [
        "from geopy.geocoders import Nominatim"
      ],
      "execution_count": 0,
      "outputs": []
    },
    {
      "metadata": {
        "id": "o04w8WjYyGCQ",
        "colab_type": "code",
        "colab": {
          "base_uri": "https://localhost:8080/",
          "height": 71
        },
        "outputId": "79c4d184-dfb4-493e-f4e6-58681b9114fe"
      },
      "cell_type": "code",
      "source": [
        "nom=Nominatim()"
      ],
      "execution_count": 4,
      "outputs": [
        {
          "output_type": "stream",
          "text": [
            "/usr/local/lib/python3.6/dist-packages/geopy/geocoders/osm.py:143: UserWarning: Using Nominatim with the default \"geopy/1.17.0\" `user_agent` is strongly discouraged, as it violates Nominatim's ToS https://operations.osmfoundation.org/policies/nominatim/ and may possibly cause 403 and 429 HTTP errors. Please specify a custom `user_agent` with `Nominatim(user_agent=\"my-application\")` or by overriding the default `user_agent`: `geopy.geocoders.options.default_user_agent = \"my-application\"`. In geopy 2.0 this will become an exception.\n",
            "  UserWarning\n"
          ],
          "name": "stderr"
        }
      ]
    },
    {
      "metadata": {
        "id": "Q0bnSe0qyHhA",
        "colab_type": "code",
        "colab": {
          "base_uri": "https://localhost:8080/",
          "height": 71
        },
        "outputId": "64c576ea-b921-48dc-e08d-9127d8fd3be1"
      },
      "cell_type": "code",
      "source": [
        "nom=Nominatim()"
      ],
      "execution_count": 5,
      "outputs": [
        {
          "output_type": "stream",
          "text": [
            "/usr/local/lib/python3.6/dist-packages/geopy/geocoders/osm.py:143: UserWarning: Using Nominatim with the default \"geopy/1.17.0\" `user_agent` is strongly discouraged, as it violates Nominatim's ToS https://operations.osmfoundation.org/policies/nominatim/ and may possibly cause 403 and 429 HTTP errors. Please specify a custom `user_agent` with `Nominatim(user_agent=\"my-application\")` or by overriding the default `user_agent`: `geopy.geocoders.options.default_user_agent = \"my-application\"`. In geopy 2.0 this will become an exception.\n",
            "  UserWarning\n"
          ],
          "name": "stderr"
        }
      ]
    },
    {
      "metadata": {
        "id": "ebQIbEkJyJ6i",
        "colab_type": "code",
        "colab": {}
      },
      "cell_type": "code",
      "source": [
        "n = nom.geocode(\"3995 23rd St, San Francisco, CA 94114\")"
      ],
      "execution_count": 0,
      "outputs": []
    },
    {
      "metadata": {
        "id": "iKuW-rfFybS6",
        "colab_type": "code",
        "colab": {
          "base_uri": "https://localhost:8080/",
          "height": 235
        },
        "outputId": "3f48a36c-aa42-492f-ce86-6b53f50ce3c5"
      },
      "cell_type": "code",
      "source": [
        "import pandas as pd\n",
        "df=pd.read_json(\"http://pythonhow.com/supermarkets.json\")\n",
        "df"
      ],
      "execution_count": 25,
      "outputs": [
        {
          "output_type": "execute_result",
          "data": {
            "text/html": [
              "<div>\n",
              "<style scoped>\n",
              "    .dataframe tbody tr th:only-of-type {\n",
              "        vertical-align: middle;\n",
              "    }\n",
              "\n",
              "    .dataframe tbody tr th {\n",
              "        vertical-align: top;\n",
              "    }\n",
              "\n",
              "    .dataframe thead th {\n",
              "        text-align: right;\n",
              "    }\n",
              "</style>\n",
              "<table border=\"1\" class=\"dataframe\">\n",
              "  <thead>\n",
              "    <tr style=\"text-align: right;\">\n",
              "      <th></th>\n",
              "      <th>Address</th>\n",
              "      <th>City</th>\n",
              "      <th>Country</th>\n",
              "      <th>Employees</th>\n",
              "      <th>ID</th>\n",
              "      <th>Name</th>\n",
              "      <th>State</th>\n",
              "    </tr>\n",
              "  </thead>\n",
              "  <tbody>\n",
              "    <tr>\n",
              "      <th>0</th>\n",
              "      <td>3666 21st St</td>\n",
              "      <td>San Francisco</td>\n",
              "      <td>USA</td>\n",
              "      <td>8</td>\n",
              "      <td>1</td>\n",
              "      <td>Madeira</td>\n",
              "      <td>CA 94114</td>\n",
              "    </tr>\n",
              "    <tr>\n",
              "      <th>1</th>\n",
              "      <td>735 Dolores St</td>\n",
              "      <td>San Francisco</td>\n",
              "      <td>USA</td>\n",
              "      <td>15</td>\n",
              "      <td>2</td>\n",
              "      <td>Bready Shop</td>\n",
              "      <td>CA 94119</td>\n",
              "    </tr>\n",
              "    <tr>\n",
              "      <th>2</th>\n",
              "      <td>332 Hill St</td>\n",
              "      <td>San Francisco</td>\n",
              "      <td>USA</td>\n",
              "      <td>25</td>\n",
              "      <td>3</td>\n",
              "      <td>Super River</td>\n",
              "      <td>California 94114</td>\n",
              "    </tr>\n",
              "    <tr>\n",
              "      <th>3</th>\n",
              "      <td>3995 23rd St</td>\n",
              "      <td>San Francisco</td>\n",
              "      <td>USA</td>\n",
              "      <td>10</td>\n",
              "      <td>4</td>\n",
              "      <td>Ben's Shop</td>\n",
              "      <td>CA 94114</td>\n",
              "    </tr>\n",
              "    <tr>\n",
              "      <th>4</th>\n",
              "      <td>1056 Sanchez St</td>\n",
              "      <td>San Francisco</td>\n",
              "      <td>USA</td>\n",
              "      <td>12</td>\n",
              "      <td>5</td>\n",
              "      <td>Sanchez</td>\n",
              "      <td>California</td>\n",
              "    </tr>\n",
              "    <tr>\n",
              "      <th>5</th>\n",
              "      <td>551 Alvarado St</td>\n",
              "      <td>San Francisco</td>\n",
              "      <td>USA</td>\n",
              "      <td>20</td>\n",
              "      <td>6</td>\n",
              "      <td>Richvalley</td>\n",
              "      <td>CA 94114</td>\n",
              "    </tr>\n",
              "  </tbody>\n",
              "</table>\n",
              "</div>"
            ],
            "text/plain": [
              "           Address           City Country  Employees  ID         Name  \\\n",
              "0     3666 21st St  San Francisco     USA          8   1      Madeira   \n",
              "1   735 Dolores St  San Francisco     USA         15   2  Bready Shop   \n",
              "2      332 Hill St  San Francisco     USA         25   3  Super River   \n",
              "3     3995 23rd St  San Francisco     USA         10   4   Ben's Shop   \n",
              "4  1056 Sanchez St  San Francisco     USA         12   5      Sanchez   \n",
              "5  551 Alvarado St  San Francisco     USA         20   6   Richvalley   \n",
              "\n",
              "              State  \n",
              "0          CA 94114  \n",
              "1          CA 94119  \n",
              "2  California 94114  \n",
              "3          CA 94114  \n",
              "4        California  \n",
              "5          CA 94114  "
            ]
          },
          "metadata": {
            "tags": []
          },
          "execution_count": 25
        }
      ]
    },
    {
      "metadata": {
        "id": "GOrUoXs-yh6d",
        "colab_type": "code",
        "colab": {
          "base_uri": "https://localhost:8080/",
          "height": 235
        },
        "outputId": "0082165e-f6cf-4113-d4ba-8a885c3d5bc0"
      },
      "cell_type": "code",
      "source": [
        "df[\"Address\"]=df[\"Address\"]+ \", \" + df[\"City\"] + \", \" + df[\"State\"] + \", \" + df[\"Country\"]\n",
        "df"
      ],
      "execution_count": 26,
      "outputs": [
        {
          "output_type": "execute_result",
          "data": {
            "text/html": [
              "<div>\n",
              "<style scoped>\n",
              "    .dataframe tbody tr th:only-of-type {\n",
              "        vertical-align: middle;\n",
              "    }\n",
              "\n",
              "    .dataframe tbody tr th {\n",
              "        vertical-align: top;\n",
              "    }\n",
              "\n",
              "    .dataframe thead th {\n",
              "        text-align: right;\n",
              "    }\n",
              "</style>\n",
              "<table border=\"1\" class=\"dataframe\">\n",
              "  <thead>\n",
              "    <tr style=\"text-align: right;\">\n",
              "      <th></th>\n",
              "      <th>Address</th>\n",
              "      <th>City</th>\n",
              "      <th>Country</th>\n",
              "      <th>Employees</th>\n",
              "      <th>ID</th>\n",
              "      <th>Name</th>\n",
              "      <th>State</th>\n",
              "    </tr>\n",
              "  </thead>\n",
              "  <tbody>\n",
              "    <tr>\n",
              "      <th>0</th>\n",
              "      <td>3666 21st St, San Francisco, CA 94114, USA</td>\n",
              "      <td>San Francisco</td>\n",
              "      <td>USA</td>\n",
              "      <td>8</td>\n",
              "      <td>1</td>\n",
              "      <td>Madeira</td>\n",
              "      <td>CA 94114</td>\n",
              "    </tr>\n",
              "    <tr>\n",
              "      <th>1</th>\n",
              "      <td>735 Dolores St, San Francisco, CA 94119, USA</td>\n",
              "      <td>San Francisco</td>\n",
              "      <td>USA</td>\n",
              "      <td>15</td>\n",
              "      <td>2</td>\n",
              "      <td>Bready Shop</td>\n",
              "      <td>CA 94119</td>\n",
              "    </tr>\n",
              "    <tr>\n",
              "      <th>2</th>\n",
              "      <td>332 Hill St, San Francisco, California 94114, USA</td>\n",
              "      <td>San Francisco</td>\n",
              "      <td>USA</td>\n",
              "      <td>25</td>\n",
              "      <td>3</td>\n",
              "      <td>Super River</td>\n",
              "      <td>California 94114</td>\n",
              "    </tr>\n",
              "    <tr>\n",
              "      <th>3</th>\n",
              "      <td>3995 23rd St, San Francisco, CA 94114, USA</td>\n",
              "      <td>San Francisco</td>\n",
              "      <td>USA</td>\n",
              "      <td>10</td>\n",
              "      <td>4</td>\n",
              "      <td>Ben's Shop</td>\n",
              "      <td>CA 94114</td>\n",
              "    </tr>\n",
              "    <tr>\n",
              "      <th>4</th>\n",
              "      <td>1056 Sanchez St, San Francisco, California, USA</td>\n",
              "      <td>San Francisco</td>\n",
              "      <td>USA</td>\n",
              "      <td>12</td>\n",
              "      <td>5</td>\n",
              "      <td>Sanchez</td>\n",
              "      <td>California</td>\n",
              "    </tr>\n",
              "    <tr>\n",
              "      <th>5</th>\n",
              "      <td>551 Alvarado St, San Francisco, CA 94114, USA</td>\n",
              "      <td>San Francisco</td>\n",
              "      <td>USA</td>\n",
              "      <td>20</td>\n",
              "      <td>6</td>\n",
              "      <td>Richvalley</td>\n",
              "      <td>CA 94114</td>\n",
              "    </tr>\n",
              "  </tbody>\n",
              "</table>\n",
              "</div>"
            ],
            "text/plain": [
              "                                             Address           City Country  \\\n",
              "0         3666 21st St, San Francisco, CA 94114, USA  San Francisco     USA   \n",
              "1       735 Dolores St, San Francisco, CA 94119, USA  San Francisco     USA   \n",
              "2  332 Hill St, San Francisco, California 94114, USA  San Francisco     USA   \n",
              "3         3995 23rd St, San Francisco, CA 94114, USA  San Francisco     USA   \n",
              "4    1056 Sanchez St, San Francisco, California, USA  San Francisco     USA   \n",
              "5      551 Alvarado St, San Francisco, CA 94114, USA  San Francisco     USA   \n",
              "\n",
              "   Employees  ID         Name             State  \n",
              "0          8   1      Madeira          CA 94114  \n",
              "1         15   2  Bready Shop          CA 94119  \n",
              "2         25   3  Super River  California 94114  \n",
              "3         10   4   Ben's Shop          CA 94114  \n",
              "4         12   5      Sanchez        California  \n",
              "5         20   6   Richvalley          CA 94114  "
            ]
          },
          "metadata": {
            "tags": []
          },
          "execution_count": 26
        }
      ]
    },
    {
      "metadata": {
        "id": "MYzp6ytmzY52",
        "colab_type": "text"
      },
      "cell_type": "markdown",
      "source": [
        "### PANDAS apply\n"
      ]
    },
    {
      "metadata": {
        "id": "LzFlpbCrzT60",
        "colab_type": "code",
        "colab": {
          "base_uri": "https://localhost:8080/",
          "height": 136
        },
        "outputId": "ea130d5f-2ae0-4b9a-9257-c655e6eb5dd7"
      },
      "cell_type": "code",
      "source": [
        "df[\"Coordinates\"]=df[\"Address\"].apply(nom.geocode)\n",
        "df.Coordinates"
      ],
      "execution_count": 48,
      "outputs": [
        {
          "output_type": "execute_result",
          "data": {
            "text/plain": [
              "0    (3666, 21st Street, Noe Valley, SF, California...\n",
              "1    (735, Dolores Street, Liberty Street Historic ...\n",
              "2    (332, Hill Street, Noe Valley, SF, California,...\n",
              "3    (3995, 23rd Street, Noe Valley, SF, California...\n",
              "4    (1056, Sanchez Street, Noe Valley, SF, Califor...\n",
              "5    (551, Alvarado Street, Noe Valley, SF, Califor...\n",
              "Name: Coordinates, dtype: object"
            ]
          },
          "metadata": {
            "tags": []
          },
          "execution_count": 48
        }
      ]
    },
    {
      "metadata": {
        "id": "T3bBlFQ8z2BE",
        "colab_type": "code",
        "colab": {
          "base_uri": "https://localhost:8080/",
          "height": 34
        },
        "outputId": "4e5f4f89-edb0-49e8-8fe7-3bbe6517528b"
      },
      "cell_type": "code",
      "source": [
        "df.Coordinates[0].latitude"
      ],
      "execution_count": 51,
      "outputs": [
        {
          "output_type": "execute_result",
          "data": {
            "text/plain": [
              "37.756488877551"
            ]
          },
          "metadata": {
            "tags": []
          },
          "execution_count": 51
        }
      ]
    },
    {
      "metadata": {
        "id": "w45aV6ft2myq",
        "colab_type": "code",
        "colab": {
          "base_uri": "https://localhost:8080/",
          "height": 235
        },
        "outputId": "b849c12a-0021-49a1-ed29-57df266b5dc2"
      },
      "cell_type": "code",
      "source": [
        "df[\"Latitude\"] = df[\"Coordinates\"].apply(lambda x: x.latitude if x != None else None)\n",
        "df[\"Longitude\"] = df[\"Coordinates\"].apply(lambda x: x.longitude if x != None else None)\n",
        "df"
      ],
      "execution_count": 56,
      "outputs": [
        {
          "output_type": "execute_result",
          "data": {
            "text/html": [
              "<div>\n",
              "<style scoped>\n",
              "    .dataframe tbody tr th:only-of-type {\n",
              "        vertical-align: middle;\n",
              "    }\n",
              "\n",
              "    .dataframe tbody tr th {\n",
              "        vertical-align: top;\n",
              "    }\n",
              "\n",
              "    .dataframe thead th {\n",
              "        text-align: right;\n",
              "    }\n",
              "</style>\n",
              "<table border=\"1\" class=\"dataframe\">\n",
              "  <thead>\n",
              "    <tr style=\"text-align: right;\">\n",
              "      <th></th>\n",
              "      <th>Address</th>\n",
              "      <th>City</th>\n",
              "      <th>Country</th>\n",
              "      <th>Employees</th>\n",
              "      <th>ID</th>\n",
              "      <th>Name</th>\n",
              "      <th>State</th>\n",
              "      <th>Coordinates</th>\n",
              "      <th>Latitude</th>\n",
              "      <th>Longitude</th>\n",
              "    </tr>\n",
              "  </thead>\n",
              "  <tbody>\n",
              "    <tr>\n",
              "      <th>0</th>\n",
              "      <td>3666 21st St, San Francisco, CA 94114, USA</td>\n",
              "      <td>San Francisco</td>\n",
              "      <td>USA</td>\n",
              "      <td>8</td>\n",
              "      <td>1</td>\n",
              "      <td>Madeira</td>\n",
              "      <td>CA 94114</td>\n",
              "      <td>(3666, 21st Street, Noe Valley, SF, California...</td>\n",
              "      <td>37.756489</td>\n",
              "      <td>-122.429343</td>\n",
              "    </tr>\n",
              "    <tr>\n",
              "      <th>1</th>\n",
              "      <td>735 Dolores St, San Francisco, CA 94119, USA</td>\n",
              "      <td>San Francisco</td>\n",
              "      <td>USA</td>\n",
              "      <td>15</td>\n",
              "      <td>2</td>\n",
              "      <td>Bready Shop</td>\n",
              "      <td>CA 94119</td>\n",
              "      <td>(735, Dolores Street, Liberty Street Historic ...</td>\n",
              "      <td>37.757726</td>\n",
              "      <td>-122.425529</td>\n",
              "    </tr>\n",
              "    <tr>\n",
              "      <th>2</th>\n",
              "      <td>332 Hill St, San Francisco, California 94114, USA</td>\n",
              "      <td>San Francisco</td>\n",
              "      <td>USA</td>\n",
              "      <td>25</td>\n",
              "      <td>3</td>\n",
              "      <td>Super River</td>\n",
              "      <td>California 94114</td>\n",
              "      <td>(332, Hill Street, Noe Valley, SF, California,...</td>\n",
              "      <td>37.755725</td>\n",
              "      <td>-122.428601</td>\n",
              "    </tr>\n",
              "    <tr>\n",
              "      <th>3</th>\n",
              "      <td>3995 23rd St, San Francisco, CA 94114, USA</td>\n",
              "      <td>San Francisco</td>\n",
              "      <td>USA</td>\n",
              "      <td>10</td>\n",
              "      <td>4</td>\n",
              "      <td>Ben's Shop</td>\n",
              "      <td>CA 94114</td>\n",
              "      <td>(3995, 23rd Street, Noe Valley, SF, California...</td>\n",
              "      <td>37.752965</td>\n",
              "      <td>-122.431714</td>\n",
              "    </tr>\n",
              "    <tr>\n",
              "      <th>4</th>\n",
              "      <td>1056 Sanchez St, San Francisco, California, USA</td>\n",
              "      <td>San Francisco</td>\n",
              "      <td>USA</td>\n",
              "      <td>12</td>\n",
              "      <td>5</td>\n",
              "      <td>Sanchez</td>\n",
              "      <td>California</td>\n",
              "      <td>(1056, Sanchez Street, Noe Valley, SF, Califor...</td>\n",
              "      <td>37.752146</td>\n",
              "      <td>-122.429815</td>\n",
              "    </tr>\n",
              "    <tr>\n",
              "      <th>5</th>\n",
              "      <td>551 Alvarado St, San Francisco, CA 94114, USA</td>\n",
              "      <td>San Francisco</td>\n",
              "      <td>USA</td>\n",
              "      <td>20</td>\n",
              "      <td>6</td>\n",
              "      <td>Richvalley</td>\n",
              "      <td>CA 94114</td>\n",
              "      <td>(551, Alvarado Street, Noe Valley, SF, Califor...</td>\n",
              "      <td>37.753673</td>\n",
              "      <td>-122.433220</td>\n",
              "    </tr>\n",
              "  </tbody>\n",
              "</table>\n",
              "</div>"
            ],
            "text/plain": [
              "                                             Address           City Country  \\\n",
              "0         3666 21st St, San Francisco, CA 94114, USA  San Francisco     USA   \n",
              "1       735 Dolores St, San Francisco, CA 94119, USA  San Francisco     USA   \n",
              "2  332 Hill St, San Francisco, California 94114, USA  San Francisco     USA   \n",
              "3         3995 23rd St, San Francisco, CA 94114, USA  San Francisco     USA   \n",
              "4    1056 Sanchez St, San Francisco, California, USA  San Francisco     USA   \n",
              "5      551 Alvarado St, San Francisco, CA 94114, USA  San Francisco     USA   \n",
              "\n",
              "   Employees  ID         Name             State  \\\n",
              "0          8   1      Madeira          CA 94114   \n",
              "1         15   2  Bready Shop          CA 94119   \n",
              "2         25   3  Super River  California 94114   \n",
              "3         10   4   Ben's Shop          CA 94114   \n",
              "4         12   5      Sanchez        California   \n",
              "5         20   6   Richvalley          CA 94114   \n",
              "\n",
              "                                         Coordinates   Latitude   Longitude  \n",
              "0  (3666, 21st Street, Noe Valley, SF, California...  37.756489 -122.429343  \n",
              "1  (735, Dolores Street, Liberty Street Historic ...  37.757726 -122.425529  \n",
              "2  (332, Hill Street, Noe Valley, SF, California,...  37.755725 -122.428601  \n",
              "3  (3995, 23rd Street, Noe Valley, SF, California...  37.752965 -122.431714  \n",
              "4  (1056, Sanchez Street, Noe Valley, SF, Califor...  37.752146 -122.429815  \n",
              "5  (551, Alvarado Street, Noe Valley, SF, Califor...  37.753673 -122.433220  "
            ]
          },
          "metadata": {
            "tags": []
          },
          "execution_count": 56
        }
      ]
    }
  ]
}