{
  "nbformat": 4,
  "nbformat_minor": 0,
  "metadata": {
    "colab": {
      "name": "python_basic_exam_01.ipynb",
      "version": "0.3.2",
      "provenance": [],
      "toc_visible": true,
      "include_colab_link": true
    },
    "kernelspec": {
      "name": "python3",
      "display_name": "Python 3"
    }
  },
  "cells": [
    {
      "cell_type": "markdown",
      "metadata": {
        "id": "view-in-github",
        "colab_type": "text"
      },
      "source": [
        "<a href=\"https://colab.research.google.com/github/ykworx/tls/blob/master/python_basic_exam_01.ipynb\" target=\"_parent\"><img src=\"https://colab.research.google.com/assets/colab-badge.svg\" alt=\"Open In Colab\"/></a>"
      ]
    },
    {
      "metadata": {
        "id": "I7Y17gk5pIxi",
        "colab_type": "text"
      },
      "cell_type": "markdown",
      "source": [
        "##Code\tMeaning\tExample\n",
        "```\n",
        "%a\tWeekday as locale’s abbreviated name.\tMon  \n",
        "%A\tWeekday as locale’s full name.\tMonday  \n",
        "%w\tWeekday as a decimal number, where 0 is Sunday and 6 is Saturday.\t1  \n",
        "%d\tDay of the month as a zero-padded decimal number.\t30  \n",
        "%-d\tDay of the month as a decimal number. (Platform specific)\t30  \n",
        "%b\tMonth as locale’s abbreviated name.\tSep  \n",
        "%B\tMonth as locale’s full name.\tSeptember  \n",
        "%m\tMonth as a zero-padded decimal number.\t09  \n",
        "%-m\tMonth as a decimal number. (Platform specific)\t9  \n",
        "%y\tYear without century as a zero-padded decimal number.\t13  \n",
        "%Y\tYear with century as a decimal number.\t2013  \n",
        "%H\tHour (24-hour clock) as a zero-padded decimal number.\t07  \n",
        "%-H\tHour (24-hour clock) as a decimal number. (Platform specific)\t7  \n",
        "%I\tHour (12-hour clock) as a zero-padded decimal number.\t07  \n",
        "%-I\tHour (12-hour clock) as a decimal number. (Platform specific)\t7  \n",
        "%p\tLocale’s equivalent of either AM or PM.\tAM  \n",
        "%M\tMinute as a zero-padded decimal number.\t06  \n",
        "%-M\tMinute as a decimal number. (Platform specific)\t6  \n",
        "%S\tSecond as a zero-padded decimal number.\t05  \n",
        "%-S\tSecond as a decimal number. (Platform specific)\t5  \n",
        "%f\tMicrosecond as a decimal number, zero-padded on the left.\t000000  \n",
        "%z\tUTC offset in the form +HHMM or -HHMM (empty string if the the object is naive).\t\n",
        "%Z\tTime zone name (empty string if the object is naive).\t  \n",
        "%j\tDay of the year as a zero-padded decimal number.\t273  \n",
        "%-j\tDay of the year as a decimal number. (Platform specific)\t273  \n",
        "%U\tWeek number of the year (Sunday as the first day of the week) as a zero padded decimal number. All days in a new year preceding the first Sunday are considered to be in week 0.\t39  \n",
        "%W\tWeek number of the year (Monday as the first day of the week) as a decimal number. All days in a new year preceding the first Monday are considered to be in week 0.\t39  \n",
        "%c\tLocale’s appropriate date and time representation.\tMon Sep 30 07:06:05 2013  \n",
        "%x\tLocale’s appropriate date representation.\t09/30/13  \n",
        "%X\tLocale’s appropriate time representation.\t07:06:05  \n",
        "%%\tA literal '%' character.\t%\n",
        "```\n",
        "\n",
        "Note: Examples are based on datetime.datetime(2013, 9, 30, 7, 6, 5)\n",
        "\n",
        "Source: http://strftime.org/"
      ]
    },
    {
      "metadata": {
        "id": "Mh1BaUxwpShU",
        "colab_type": "code",
        "colab": {
          "base_uri": "https://localhost:8080/",
          "height": 34
        },
        "outputId": "cc5d8621-dd1b-4fcb-c26f-525dda652a1a"
      },
      "cell_type": "code",
      "source": [
        "from datetime import datetime\n",
        "\n",
        "now = datetime.now()\n",
        "print(now)"
      ],
      "execution_count": 20,
      "outputs": [
        {
          "output_type": "stream",
          "text": [
            "2019-02-24 13:25:36.924477\n"
          ],
          "name": "stdout"
        }
      ]
    },
    {
      "metadata": {
        "id": "g1iNjBLcq4bv",
        "colab_type": "code",
        "colab": {
          "base_uri": "https://localhost:8080/",
          "height": 34
        },
        "outputId": "2b12e917-2ef6-4eee-8b30-0836ffc733f0"
      },
      "cell_type": "code",
      "source": [
        "date = datetime(1999,12,31,12,59,0,0)\n",
        "now - date\n",
        "\n",
        "datetime.strptime(\"2019-1-31 12:31:00.123\", \"%Y-%m-%d %H:%M:%S.%f\")"
      ],
      "execution_count": 19,
      "outputs": [
        {
          "output_type": "execute_result",
          "data": {
            "text/plain": [
              "datetime.datetime(2019, 1, 31, 12, 31, 0, 123000)"
            ]
          },
          "metadata": {
            "tags": []
          },
          "execution_count": 19
        }
      ]
    },
    {
      "metadata": {
        "id": "X25aUgZ9qXez",
        "colab_type": "code",
        "colab": {
          "base_uri": "https://localhost:8080/",
          "height": 68
        },
        "outputId": "3842e71a-6eee-4630-d621-26b444cdbd68"
      },
      "cell_type": "code",
      "source": [
        "a = ['a','b','c']\n",
        "b = [1,2,3]\n",
        "\n",
        "for i,j in zip(a,b):\n",
        "  print(\"%s is %s\" % (i,j))"
      ],
      "execution_count": 8,
      "outputs": [
        {
          "output_type": "stream",
          "text": [
            "a is 1\n",
            "b is 2\n",
            "c is 3\n"
          ],
          "name": "stdout"
        }
      ]
    },
    {
      "metadata": {
        "id": "rplgx1G0qn_Q",
        "colab_type": "code",
        "colab": {
          "base_uri": "https://localhost:8080/",
          "height": 34
        },
        "outputId": "fc90857e-cb93-4940-ba5c-d4fef1a032d9"
      },
      "cell_type": "code",
      "source": [
        "dict(zip(a,b))"
      ],
      "execution_count": 21,
      "outputs": [
        {
          "output_type": "execute_result",
          "data": {
            "text/plain": [
              "{'a': 1, 'b': 2, 'c': 3}"
            ]
          },
          "metadata": {
            "tags": []
          },
          "execution_count": 21
        }
      ]
    },
    {
      "metadata": {
        "id": "462NOdgTsQ9P",
        "colab_type": "code",
        "colab": {
          "base_uri": "https://localhost:8080/",
          "height": 34
        },
        "outputId": "c9497f1c-2f78-491a-d265-3590d6ad364e"
      },
      "cell_type": "code",
      "source": [
        "myfile = open(\"example.txt\", \"w\")\n",
        "myfile.write(\"Something\")\n",
        "myfile.close()\n",
        "\n",
        "with open(\"example.txt\", \"w\") as myfile:\n",
        "  myfile.write(\"Somthing\")\n",
        "  \n",
        "myfile = open(\"example.txt\",\"r\")\n",
        "print(myfile.read())\n",
        "myfile.close()"
      ],
      "execution_count": 25,
      "outputs": [
        {
          "output_type": "stream",
          "text": [
            "Somthing\n"
          ],
          "name": "stdout"
        }
      ]
    },
    {
      "metadata": {
        "id": "FOb6zbuhs2Tv",
        "colab_type": "code",
        "colab": {}
      },
      "cell_type": "code",
      "source": [
        "temprature = [10, -20, -289, 100]\n",
        "\n",
        "def writer(tempratures, filepath):\n",
        "  with open(filepath, \"w\") as file:\n",
        "    for c in tempratures:\n",
        "      if c > -273.15:\n",
        "        f = c * 9 / 5 + 32\n",
        "        file.write(str(f) + \"\\n\")\n",
        "\n",
        "writer(temprature, \"temps.txt\")"
      ],
      "execution_count": 0,
      "outputs": []
    }
  ]
}